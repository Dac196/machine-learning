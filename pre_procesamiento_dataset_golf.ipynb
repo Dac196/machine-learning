{
  "nbformat": 4,
  "nbformat_minor": 0,
  "metadata": {
    "colab": {
      "provenance": [],
      "authorship_tag": "ABX9TyNWov/B+KiZaeQHFahFYwYc",
      "include_colab_link": true
    },
    "kernelspec": {
      "name": "python3",
      "display_name": "Python 3"
    },
    "language_info": {
      "name": "python"
    }
  },
  "cells": [
    {
      "cell_type": "markdown",
      "metadata": {
        "id": "view-in-github",
        "colab_type": "text"
      },
      "source": [
        "<a href=\"https://colab.research.google.com/github/Dac196/machine-learning/blob/main/pre_procesamiento_dataset_golf.ipynb\" target=\"_parent\"><img src=\"https://colab.research.google.com/assets/colab-badge.svg\" alt=\"Open In Colab\"/></a>"
      ]
    },
    {
      "cell_type": "markdown",
      "source": [
        "**Segundo dataset**\n",
        "\n",
        "En este conjunto de datos se cuenta con diferentes tipos de diseño de pelotas de golf y se busca comprobar si el diseño de la pelota tiene una relación con la distancia que estas pueden llegar a recorrer."
      ],
      "metadata": {
        "id": "ATUlnpKZDCQg"
      }
    },
    {
      "cell_type": "code",
      "execution_count": null,
      "metadata": {
        "id": "VJKBnS7SxGNt"
      },
      "outputs": [],
      "source": [
        "import numpy as np\n",
        "import pandas as pd\n",
        "import matplotlib.pyplot as plt\n",
        "import seaborn as sns\n",
        "from scipy.stats import bartlett # prubea de igualdad de varianza\n",
        "from scipy.stats import normaltest # prueba de normalidad\n",
        "from scipy.stats import f_oneway #prueba ANDEVA una vía\n",
        "from statsmodels.stats.multicomp import pairwise_tukeyhsd"
      ]
    },
    {
      "cell_type": "code",
      "source": [
        "df = pd.read_csv(\"Golfball.csv\",delimiter=';')"
      ],
      "metadata": {
        "id": "0pZ9Jlm7xPuq"
      },
      "execution_count": null,
      "outputs": []
    },
    {
      "cell_type": "code",
      "source": [
        "df.head(10)"
      ],
      "metadata": {
        "colab": {
          "base_uri": "https://localhost:8080/",
          "height": 363
        },
        "id": "FmCQ76G1xZXR",
        "outputId": "cb6f9593-d4c6-4868-a9b5-4c8fba9631c7"
      },
      "execution_count": null,
      "outputs": [
        {
          "output_type": "execute_result",
          "data": {
            "text/plain": [
              "    Design  Distance\n",
              "0  Design1    206.32\n",
              "1  Design1    207.94\n",
              "2  Design1    206.19\n",
              "3  Design1    204.45\n",
              "4  Design1    209.65\n",
              "5  Design1    203.81\n",
              "6  Design1    206.75\n",
              "7  Design1    205.68\n",
              "8  Design1    204.49\n",
              "9  Design1    210.86"
            ],
            "text/html": [
              "\n",
              "  <div id=\"df-bb9d090a-b8b9-4938-83ea-549856054319\">\n",
              "    <div class=\"colab-df-container\">\n",
              "      <div>\n",
              "<style scoped>\n",
              "    .dataframe tbody tr th:only-of-type {\n",
              "        vertical-align: middle;\n",
              "    }\n",
              "\n",
              "    .dataframe tbody tr th {\n",
              "        vertical-align: top;\n",
              "    }\n",
              "\n",
              "    .dataframe thead th {\n",
              "        text-align: right;\n",
              "    }\n",
              "</style>\n",
              "<table border=\"1\" class=\"dataframe\">\n",
              "  <thead>\n",
              "    <tr style=\"text-align: right;\">\n",
              "      <th></th>\n",
              "      <th>Design</th>\n",
              "      <th>Distance</th>\n",
              "    </tr>\n",
              "  </thead>\n",
              "  <tbody>\n",
              "    <tr>\n",
              "      <th>0</th>\n",
              "      <td>Design1</td>\n",
              "      <td>206.32</td>\n",
              "    </tr>\n",
              "    <tr>\n",
              "      <th>1</th>\n",
              "      <td>Design1</td>\n",
              "      <td>207.94</td>\n",
              "    </tr>\n",
              "    <tr>\n",
              "      <th>2</th>\n",
              "      <td>Design1</td>\n",
              "      <td>206.19</td>\n",
              "    </tr>\n",
              "    <tr>\n",
              "      <th>3</th>\n",
              "      <td>Design1</td>\n",
              "      <td>204.45</td>\n",
              "    </tr>\n",
              "    <tr>\n",
              "      <th>4</th>\n",
              "      <td>Design1</td>\n",
              "      <td>209.65</td>\n",
              "    </tr>\n",
              "    <tr>\n",
              "      <th>5</th>\n",
              "      <td>Design1</td>\n",
              "      <td>203.81</td>\n",
              "    </tr>\n",
              "    <tr>\n",
              "      <th>6</th>\n",
              "      <td>Design1</td>\n",
              "      <td>206.75</td>\n",
              "    </tr>\n",
              "    <tr>\n",
              "      <th>7</th>\n",
              "      <td>Design1</td>\n",
              "      <td>205.68</td>\n",
              "    </tr>\n",
              "    <tr>\n",
              "      <th>8</th>\n",
              "      <td>Design1</td>\n",
              "      <td>204.49</td>\n",
              "    </tr>\n",
              "    <tr>\n",
              "      <th>9</th>\n",
              "      <td>Design1</td>\n",
              "      <td>210.86</td>\n",
              "    </tr>\n",
              "  </tbody>\n",
              "</table>\n",
              "</div>\n",
              "      <button class=\"colab-df-convert\" onclick=\"convertToInteractive('df-bb9d090a-b8b9-4938-83ea-549856054319')\"\n",
              "              title=\"Convert this dataframe to an interactive table.\"\n",
              "              style=\"display:none;\">\n",
              "        \n",
              "  <svg xmlns=\"http://www.w3.org/2000/svg\" height=\"24px\"viewBox=\"0 0 24 24\"\n",
              "       width=\"24px\">\n",
              "    <path d=\"M0 0h24v24H0V0z\" fill=\"none\"/>\n",
              "    <path d=\"M18.56 5.44l.94 2.06.94-2.06 2.06-.94-2.06-.94-.94-2.06-.94 2.06-2.06.94zm-11 1L8.5 8.5l.94-2.06 2.06-.94-2.06-.94L8.5 2.5l-.94 2.06-2.06.94zm10 10l.94 2.06.94-2.06 2.06-.94-2.06-.94-.94-2.06-.94 2.06-2.06.94z\"/><path d=\"M17.41 7.96l-1.37-1.37c-.4-.4-.92-.59-1.43-.59-.52 0-1.04.2-1.43.59L10.3 9.45l-7.72 7.72c-.78.78-.78 2.05 0 2.83L4 21.41c.39.39.9.59 1.41.59.51 0 1.02-.2 1.41-.59l7.78-7.78 2.81-2.81c.8-.78.8-2.07 0-2.86zM5.41 20L4 18.59l7.72-7.72 1.47 1.35L5.41 20z\"/>\n",
              "  </svg>\n",
              "      </button>\n",
              "      \n",
              "  <style>\n",
              "    .colab-df-container {\n",
              "      display:flex;\n",
              "      flex-wrap:wrap;\n",
              "      gap: 12px;\n",
              "    }\n",
              "\n",
              "    .colab-df-convert {\n",
              "      background-color: #E8F0FE;\n",
              "      border: none;\n",
              "      border-radius: 50%;\n",
              "      cursor: pointer;\n",
              "      display: none;\n",
              "      fill: #1967D2;\n",
              "      height: 32px;\n",
              "      padding: 0 0 0 0;\n",
              "      width: 32px;\n",
              "    }\n",
              "\n",
              "    .colab-df-convert:hover {\n",
              "      background-color: #E2EBFA;\n",
              "      box-shadow: 0px 1px 2px rgba(60, 64, 67, 0.3), 0px 1px 3px 1px rgba(60, 64, 67, 0.15);\n",
              "      fill: #174EA6;\n",
              "    }\n",
              "\n",
              "    [theme=dark] .colab-df-convert {\n",
              "      background-color: #3B4455;\n",
              "      fill: #D2E3FC;\n",
              "    }\n",
              "\n",
              "    [theme=dark] .colab-df-convert:hover {\n",
              "      background-color: #434B5C;\n",
              "      box-shadow: 0px 1px 3px 1px rgba(0, 0, 0, 0.15);\n",
              "      filter: drop-shadow(0px 1px 2px rgba(0, 0, 0, 0.3));\n",
              "      fill: #FFFFFF;\n",
              "    }\n",
              "  </style>\n",
              "\n",
              "      <script>\n",
              "        const buttonEl =\n",
              "          document.querySelector('#df-bb9d090a-b8b9-4938-83ea-549856054319 button.colab-df-convert');\n",
              "        buttonEl.style.display =\n",
              "          google.colab.kernel.accessAllowed ? 'block' : 'none';\n",
              "\n",
              "        async function convertToInteractive(key) {\n",
              "          const element = document.querySelector('#df-bb9d090a-b8b9-4938-83ea-549856054319');\n",
              "          const dataTable =\n",
              "            await google.colab.kernel.invokeFunction('convertToInteractive',\n",
              "                                                     [key], {});\n",
              "          if (!dataTable) return;\n",
              "\n",
              "          const docLinkHtml = 'Like what you see? Visit the ' +\n",
              "            '<a target=\"_blank\" href=https://colab.research.google.com/notebooks/data_table.ipynb>data table notebook</a>'\n",
              "            + ' to learn more about interactive tables.';\n",
              "          element.innerHTML = '';\n",
              "          dataTable['output_type'] = 'display_data';\n",
              "          await google.colab.output.renderOutput(dataTable, element);\n",
              "          const docLink = document.createElement('div');\n",
              "          docLink.innerHTML = docLinkHtml;\n",
              "          element.appendChild(docLink);\n",
              "        }\n",
              "      </script>\n",
              "    </div>\n",
              "  </div>\n",
              "  "
            ]
          },
          "metadata": {},
          "execution_count": 53
        }
      ]
    },
    {
      "cell_type": "code",
      "source": [
        "df.info()"
      ],
      "metadata": {
        "colab": {
          "base_uri": "https://localhost:8080/"
        },
        "id": "AwP7Wemix-rs",
        "outputId": "e2d247c5-5bcc-491d-9e6a-a83033862dae"
      },
      "execution_count": null,
      "outputs": [
        {
          "output_type": "stream",
          "name": "stdout",
          "text": [
            "<class 'pandas.core.frame.DataFrame'>\n",
            "RangeIndex: 40 entries, 0 to 39\n",
            "Data columns (total 2 columns):\n",
            " #   Column    Non-Null Count  Dtype  \n",
            "---  ------    --------------  -----  \n",
            " 0   Design    40 non-null     object \n",
            " 1   Distance  40 non-null     float64\n",
            "dtypes: float64(1), object(1)\n",
            "memory usage: 768.0+ bytes\n"
          ]
        }
      ]
    },
    {
      "cell_type": "code",
      "source": [
        "df.groupby('Design').size()"
      ],
      "metadata": {
        "colab": {
          "base_uri": "https://localhost:8080/"
        },
        "id": "v0e25SN8yFmN",
        "outputId": "febfc15e-8552-4f71-a75d-f841197680f4"
      },
      "execution_count": null,
      "outputs": [
        {
          "output_type": "execute_result",
          "data": {
            "text/plain": [
              "Design\n",
              "Design1    10\n",
              "Design2    10\n",
              "Design3    10\n",
              "Design4    10\n",
              "dtype: int64"
            ]
          },
          "metadata": {},
          "execution_count": 55
        }
      ]
    },
    {
      "cell_type": "markdown",
      "source": [
        "Se consulta el tamaño del dataset y la moda de los datos en este caso se evidencia que para la prueba se tuvieron en cuenta 10 pelotas de cada uno de los 4 diseños"
      ],
      "metadata": {
        "id": "yAWysvVJDaxm"
      }
    },
    {
      "cell_type": "code",
      "source": [
        "columns_names = df.columns.values\n",
        "print (columns_names)"
      ],
      "metadata": {
        "colab": {
          "base_uri": "https://localhost:8080/"
        },
        "id": "PjyqL4rmyNys",
        "outputId": "81710896-309e-4d51-ab55-f584f83918a5"
      },
      "execution_count": null,
      "outputs": [
        {
          "output_type": "stream",
          "name": "stdout",
          "text": [
            "['Design' 'Distance']\n"
          ]
        }
      ]
    },
    {
      "cell_type": "code",
      "source": [
        "fig, ax = plt.subplots(1, 1, figsize=(15, 8))\n",
        "sns.boxplot(x=\"Design\", y=\"Distance\", data=df, ax=ax)\n",
        "plt.show"
      ],
      "metadata": {
        "colab": {
          "base_uri": "https://localhost:8080/",
          "height": 514
        },
        "id": "YrqTUWl9y5ft",
        "outputId": "7e7e9ada-a9ca-4cc3-cf2d-f070aef1af16"
      },
      "execution_count": null,
      "outputs": [
        {
          "output_type": "execute_result",
          "data": {
            "text/plain": [
              "<function matplotlib.pyplot.show(close=None, block=None)>"
            ]
          },
          "metadata": {},
          "execution_count": 57
        },
        {
          "output_type": "display_data",
          "data": {
            "text/plain": [
              "<Figure size 1080x576 with 1 Axes>"
            ],
            "image/png": "[encoded data removed]"
          },
          "metadata": {
            "needs_background": "light"
          }
        }
      ]
    },
    {
      "cell_type": "markdown",
      "source": [
        "Se grafica la distribución de cada uno de los diseños de las pelotas."
      ],
      "metadata": {
        "id": "cG19Xr7QDpdk"
      }
    },
    {
      "cell_type": "code",
      "source": [
        "df.groupby('Design').agg(['mean', 'std'])"
      ],
      "metadata": {
        "colab": {
          "base_uri": "https://localhost:8080/",
          "height": 238
        },
        "id": "AMLVcRhFz-wc",
        "outputId": "bb486a0c-18ad-4c6a-c5fe-05df4c32703a"
      },
      "execution_count": null,
      "outputs": [
        {
          "output_type": "execute_result",
          "data": {
            "text/plain": [
              "        Distance          \n",
              "            mean       std\n",
              "Design                    \n",
              "Design1  206.614  2.290508\n",
              "Design2  218.516  5.537796\n",
              "Design3  226.588  4.814782\n",
              "Design4  228.622  4.013349"
            ],
            "text/html": [
              "\n",
              "  <div id=\"df-d794b432-1380-4294-b6b9-15f669a0ba42\">\n",
              "    <div class=\"colab-df-container\">\n",
              "      <div>\n",
              "<style scoped>\n",
              "    .dataframe tbody tr th:only-of-type {\n",
              "        vertical-align: middle;\n",
              "    }\n",
              "\n",
              "    .dataframe tbody tr th {\n",
              "        vertical-align: top;\n",
              "    }\n",
              "\n",
              "    .dataframe thead tr th {\n",
              "        text-align: left;\n",
              "    }\n",
              "\n",
              "    .dataframe thead tr:last-of-type th {\n",
              "        text-align: right;\n",
              "    }\n",
              "</style>\n",
              "<table border=\"1\" class=\"dataframe\">\n",
              "  <thead>\n",
              "    <tr>\n",
              "      <th></th>\n",
              "      <th colspan=\"2\" halign=\"left\">Distance</th>\n",
              "    </tr>\n",
              "    <tr>\n",
              "      <th></th>\n",
              "      <th>mean</th>\n",
              "      <th>std</th>\n",
              "    </tr>\n",
              "    <tr>\n",
              "      <th>Design</th>\n",
              "      <th></th>\n",
              "      <th></th>\n",
              "    </tr>\n",
              "  </thead>\n",
              "  <tbody>\n",
              "    <tr>\n",
              "      <th>Design1</th>\n",
              "      <td>206.614</td>\n",
              "      <td>2.290508</td>\n",
              "    </tr>\n",
              "    <tr>\n",
              "      <th>Design2</th>\n",
              "      <td>218.516</td>\n",
              "      <td>5.537796</td>\n",
              "    </tr>\n",
              "    <tr>\n",
              "      <th>Design3</th>\n",
              "      <td>226.588</td>\n",
              "      <td>4.814782</td>\n",
              "    </tr>\n",
              "    <tr>\n",
              "      <th>Design4</th>\n",
              "      <td>228.622</td>\n",
              "      <td>4.013349</td>\n",
              "    </tr>\n",
              "  </tbody>\n",
              "</table>\n",
              "</div>\n",
              "      <button class=\"colab-df-convert\" onclick=\"convertToInteractive('df-d794b432-1380-4294-b6b9-15f669a0ba42')\"\n",
              "              title=\"Convert this dataframe to an interactive table.\"\n",
              "              style=\"display:none;\">\n",
              "        \n",
              "  <svg xmlns=\"http://www.w3.org/2000/svg\" height=\"24px\"viewBox=\"0 0 24 24\"\n",
              "       width=\"24px\">\n",
              "    <path d=\"M0 0h24v24H0V0z\" fill=\"none\"/>\n",
              "    <path d=\"M18.56 5.44l.94 2.06.94-2.06 2.06-.94-2.06-.94-.94-2.06-.94 2.06-2.06.94zm-11 1L8.5 8.5l.94-2.06 2.06-.94-2.06-.94L8.5 2.5l-.94 2.06-2.06.94zm10 10l.94 2.06.94-2.06 2.06-.94-2.06-.94-.94-2.06-.94 2.06-2.06.94z\"/><path d=\"M17.41 7.96l-1.37-1.37c-.4-.4-.92-.59-1.43-.59-.52 0-1.04.2-1.43.59L10.3 9.45l-7.72 7.72c-.78.78-.78 2.05 0 2.83L4 21.41c.39.39.9.59 1.41.59.51 0 1.02-.2 1.41-.59l7.78-7.78 2.81-2.81c.8-.78.8-2.07 0-2.86zM5.41 20L4 18.59l7.72-7.72 1.47 1.35L5.41 20z\"/>\n",
              "  </svg>\n",
              "      </button>\n",
              "      \n",
              "  <style>\n",
              "    .colab-df-container {\n",
              "      display:flex;\n",
              "      flex-wrap:wrap;\n",
              "      gap: 12px;\n",
              "    }\n",
              "\n",
              "    .colab-df-convert {\n",
              "      background-color: #E8F0FE;\n",
              "      border: none;\n",
              "      border-radius: 50%;\n",
              "      cursor: pointer;\n",
              "      display: none;\n",
              "      fill: #1967D2;\n",
              "      height: 32px;\n",
              "      padding: 0 0 0 0;\n",
              "      width: 32px;\n",
              "    }\n",
              "\n",
              "    .colab-df-convert:hover {\n",
              "      background-color: #E2EBFA;\n",
              "      box-shadow: 0px 1px 2px rgba(60, 64, 67, 0.3), 0px 1px 3px 1px rgba(60, 64, 67, 0.15);\n",
              "      fill: #174EA6;\n",
              "    }\n",
              "\n",
              "    [theme=dark] .colab-df-convert {\n",
              "      background-color: #3B4455;\n",
              "      fill: #D2E3FC;\n",
              "    }\n",
              "\n",
              "    [theme=dark] .colab-df-convert:hover {\n",
              "      background-color: #434B5C;\n",
              "      box-shadow: 0px 1px 3px 1px rgba(0, 0, 0, 0.15);\n",
              "      filter: drop-shadow(0px 1px 2px rgba(0, 0, 0, 0.3));\n",
              "      fill: #FFFFFF;\n",
              "    }\n",
              "  </style>\n",
              "\n",
              "      <script>\n",
              "        const buttonEl =\n",
              "          document.querySelector('#df-d794b432-1380-4294-b6b9-15f669a0ba42 button.colab-df-convert');\n",
              "        buttonEl.style.display =\n",
              "          google.colab.kernel.accessAllowed ? 'block' : 'none';\n",
              "\n",
              "        async function convertToInteractive(key) {\n",
              "          const element = document.querySelector('#df-d794b432-1380-4294-b6b9-15f669a0ba42');\n",
              "          const dataTable =\n",
              "            await google.colab.kernel.invokeFunction('convertToInteractive',\n",
              "                                                     [key], {});\n",
              "          if (!dataTable) return;\n",
              "\n",
              "          const docLinkHtml = 'Like what you see? Visit the ' +\n",
              "            '<a target=\"_blank\" href=https://colab.research.google.com/notebooks/data_table.ipynb>data table notebook</a>'\n",
              "            + ' to learn more about interactive tables.';\n",
              "          element.innerHTML = '';\n",
              "          dataTable['output_type'] = 'display_data';\n",
              "          await google.colab.output.renderOutput(dataTable, element);\n",
              "          const docLink = document.createElement('div');\n",
              "          docLink.innerHTML = docLinkHtml;\n",
              "          element.appendChild(docLink);\n",
              "        }\n",
              "      </script>\n",
              "    </div>\n",
              "  </div>\n",
              "  "
            ]
          },
          "metadata": {},
          "execution_count": 29
        }
      ]
    },
    {
      "cell_type": "markdown",
      "source": [
        "Se agrupa los datos por cada uno de los diseños para consultae la media y la  desviacion estandar.\n",
        "\n",
        "Se evidencia una desviación estandar bastante alta entre cada uno de los modelos."
      ],
      "metadata": {
        "id": "kzCJpAR6D66U"
      }
    },
    {
      "cell_type": "code",
      "source": [
        "#Prueba de normalidad\n",
        "S,p = normaltest(df['Distance'])\n",
        "alfa = 0.05\n",
        "print('p = {:g}'.format(p))\n",
        "\n",
        "if p<alfa:\n",
        "    print('No existen evidencias estadísticas para suponer normalidad')\n",
        "else:\n",
        "    print('Existen evidencias estadísticas para suponer normalidad')"
      ],
      "metadata": {
        "colab": {
          "base_uri": "https://localhost:8080/"
        },
        "id": "fcYzc7AK0J2K",
        "outputId": "8f930430-a1cf-4dab-bb00-758cc1fe8480"
      },
      "execution_count": null,
      "outputs": [
        {
          "output_type": "stream",
          "name": "stdout",
          "text": [
            "p = 0.00808083\n",
            "No existen evidencias estadísticas para suponer normalidad\n"
          ]
        }
      ]
    },
    {
      "cell_type": "markdown",
      "source": [
        "Se hace la prueba de normalidad y se evidencia que entre el conjunto de datos no se tiene uniformidad, el valor de alpha es superior al error que se definio, se trabaja con error tipo 1."
      ],
      "metadata": {
        "id": "hhi67tXJEYbq"
      }
    },
    {
      "cell_type": "code",
      "source": [
        "disenio1 = df['Design'] == 'Design1'\n",
        "disenio2 = df['Design'] == 'Design2'\n",
        "disenio3 = df['Design'] == 'Design3'\n",
        "disenio4 = df['Design'] == 'Design4'\n",
        "df_1 = df[disenio1]\n",
        "df_2 = df[disenio2]\n",
        "df_3 = df[disenio3]\n",
        "df_4 = df[disenio4]"
      ],
      "metadata": {
        "id": "wl6m_rpk7Qxg"
      },
      "execution_count": null,
      "outputs": []
    },
    {
      "cell_type": "markdown",
      "source": [
        "Se separa cada en un nuevo data set cada uno de los diseños para realizar prueba de normalidad."
      ],
      "metadata": {
        "id": "YGbtGSGZEs6C"
      }
    },
    {
      "cell_type": "code",
      "source": [
        "#Prueba de normalidad\n",
        "S,p = normaltest(df_1['Distance'])\n",
        "alfa = 0.05\n",
        "print('p = {:g}'.format(p))\n",
        "\n",
        "if p<alfa:\n",
        "    print('No existen evidencias estadísticas para suponer normalidad')\n",
        "else:\n",
        "    print('Existen evidencias estadísticas para suponer normalidad')"
      ],
      "metadata": {
        "colab": {
          "base_uri": "https://localhost:8080/"
        },
        "id": "Z0C_8L98_C-s",
        "outputId": "4405c9a1-f0a8-4b84-efa5-e279af499c1e"
      },
      "execution_count": null,
      "outputs": [
        {
          "output_type": "stream",
          "name": "stdout",
          "text": [
            "p = 0.543912\n",
            "Existen evidencias estadísticas para suponer normalidad\n"
          ]
        }
      ]
    },
    {
      "cell_type": "code",
      "source": [
        "#Prueba de normalidad\n",
        "S,p = normaltest(df_2['Distance'])\n",
        "alfa = 0.05\n",
        "print('p = {:g}'.format(p))\n",
        "\n",
        "if p<alfa:\n",
        "    print('No existen evidencias estadísticas para suponer normalidad')\n",
        "else:\n",
        "    print('Existen evidencias estadísticas para suponer normalidad')"
      ],
      "metadata": {
        "colab": {
          "base_uri": "https://localhost:8080/"
        },
        "id": "eHk8Kaaj_JBE",
        "outputId": "2e2df178-5784-48ca-abe2-9abd09f8f68b"
      },
      "execution_count": null,
      "outputs": [
        {
          "output_type": "stream",
          "name": "stdout",
          "text": [
            "p = 0.515665\n",
            "Existen evidencias estadísticas para suponer normalidad\n"
          ]
        }
      ]
    },
    {
      "cell_type": "code",
      "source": [
        "#Prueba de normalidad\n",
        "S,p = normaltest(df_3['Distance'])\n",
        "alfa = 0.05\n",
        "print('p = {:g}'.format(p))\n",
        "\n",
        "if p<alfa:\n",
        "    print('No existen evidencias estadísticas para suponer normalidad')\n",
        "else:\n",
        "    print('Existen evidencias estadísticas para suponer normalidad')"
      ],
      "metadata": {
        "colab": {
          "base_uri": "https://localhost:8080/"
        },
        "id": "431mPVbT_MwW",
        "outputId": "9bb4c941-c0c1-46e3-f561-915674fe8400"
      },
      "execution_count": null,
      "outputs": [
        {
          "output_type": "stream",
          "name": "stdout",
          "text": [
            "p = 0.788592\n",
            "Existen evidencias estadísticas para suponer normalidad\n"
          ]
        }
      ]
    },
    {
      "cell_type": "code",
      "source": [
        "#Prueba de normalidad\n",
        "S,p = normaltest(df_4['Distance'])\n",
        "alfa = 0.05\n",
        "print('p = {:g}'.format(p))\n",
        "\n",
        "if p<alfa:\n",
        "    print('No existen evidencias estadísticas para suponer normalidad')\n",
        "else:\n",
        "    print('Existen evidencias estadísticas para suponer normalidad')"
      ],
      "metadata": {
        "colab": {
          "base_uri": "https://localhost:8080/"
        },
        "id": "-AC6plm9_Roa",
        "outputId": "431fba22-cd4b-490b-8f37-df79a73f4620"
      },
      "execution_count": null,
      "outputs": [
        {
          "output_type": "stream",
          "name": "stdout",
          "text": [
            "p = 0.940378\n",
            "Existen evidencias estadísticas para suponer normalidad\n"
          ]
        }
      ]
    },
    {
      "cell_type": "markdown",
      "source": [
        "Entre los 4 diseños de pelotas se encuentra que si tienen una distribución normal lo que significa que probablemente la distancia recorrida si es afectada por esta."
      ],
      "metadata": {
        "id": "lLCn56ALFEv4"
      }
    },
    {
      "cell_type": "code",
      "source": [
        "#ANDEVA\n",
        "\n",
        "# Ho: todas las medias son iguales\n",
        "# Ha: al menos una de las medias es diferente\n",
        "\n",
        "# Criterio: Fc<F entonces Ho es verdadero\n",
        "# y si Fc>= F entonces Ho no es verdadero\n",
        "\n",
        "Fc , p = f_oneway(df_1['Distance'].values,df_2['Distance'].values,df_3['Distance'].values,df_4['Distance'])\n",
        "\n",
        "de = 40-4\n",
        "nu = 4-1\n",
        "import scipy.stats\n",
        "F= scipy.stats.f.ppf(q=1-0.05, dfn=nu, dfd=de)\n",
        "\n",
        "if Fc < F:\n",
        "    print('Fc = {:g}'.format(Fc), ' < ', 'F = {:g}'.format(F), ' p = {:g}'.format(p))\n",
        "    print('No existen evidencias suficientes para rechazar Ho')\n",
        "    print(',por lo que podemos suponer que no hay diferencia entre medias')\n",
        "else:\n",
        "    print('Fc = {:g}'.format(Fc), ' >= ', 'F = {:g}'.format(F), ' p = {:g}'.format(p))\n",
        "    print('Existen evidencias suficientes para rechazar Ho')\n",
        "    print(',por lo que podemos suponer que al menos una de las medias es diferentes')"
      ],
      "metadata": {
        "colab": {
          "base_uri": "https://localhost:8080/"
        },
        "id": "jRp7D_1I_UGr",
        "outputId": "28f9601d-a5b7-446c-a1e1-515ecfdb0a1c"
      },
      "execution_count": null,
      "outputs": [
        {
          "output_type": "stream",
          "name": "stdout",
          "text": [
            "Fc = 53.0298  >=  F = 2.86627  p = 2.73199e-13\n",
            "Existen evidencias suficientes para rechazar Ho\n",
            ",por lo que podemos suponer que al menos una de las medias es diferentes\n"
          ]
        }
      ]
    },
    {
      "cell_type": "markdown",
      "source": [
        "Conclusiones\n",
        "\n",
        "Para hacer una correcta hipotesis es necesario hacer una limpieza de datos y asegurar la calidad del dato para que no se den resultados alterados.\n",
        "\n",
        "Es importante realizar un adecuado analisis del conjunto de datos para poder hacer un test estadistico de manera adecuada.\n",
        "\n",
        "Se realiza la prueba con dos conjuntos de datos para poder visualizar adecuadamente la aplicación de la prueba estadistica en python. En los dos se trabajo con un error tipo 1, en los 2 casos los datos no tuvieron normalidad."
      ],
      "metadata": {
        "id": "ZWN8IH9ABsEm"
      }
    },
    {
      "cell_type": "markdown",
      "source": [
        "Infografia\n",
        "https://www.kaggle.com/code/kerneler/starter-anova-golfball-24ac8440-a\n",
        "\n",
        "https://www.kaggle.com/datasets/eduarmma19/movilidad-de-bogot-caracterizacin-viajes\n",
        "\n",
        "https://www.cienciadedatos.net/documentos/pystats09-analisis-de-varianza-anova-python.html#Test-ANOVA\n"
      ],
      "metadata": {
        "id": "glS1v87TBsvm"
      }
    }
  ]
}